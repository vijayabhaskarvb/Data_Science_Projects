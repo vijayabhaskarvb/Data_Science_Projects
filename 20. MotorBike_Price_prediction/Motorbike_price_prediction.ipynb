{
 "cells": [
  {
   "cell_type": "code",
   "execution_count": 2,
   "id": "dc49ab60",
   "metadata": {},
   "outputs": [],
   "source": [
    "import numpy as np\n",
    "import pandas as pd\n",
    "import matplotlib.pyplot as plt\n",
    "import seaborn as sns"
   ]
  },
  {
   "cell_type": "code",
   "execution_count": 3,
   "id": "01d18cb6",
   "metadata": {},
   "outputs": [
    {
     "data": {
      "text/html": [
       "<div>\n",
       "<style scoped>\n",
       "    .dataframe tbody tr th:only-of-type {\n",
       "        vertical-align: middle;\n",
       "    }\n",
       "\n",
       "    .dataframe tbody tr th {\n",
       "        vertical-align: top;\n",
       "    }\n",
       "\n",
       "    .dataframe thead th {\n",
       "        text-align: right;\n",
       "    }\n",
       "</style>\n",
       "<table border=\"1\" class=\"dataframe\">\n",
       "  <thead>\n",
       "    <tr style=\"text-align: right;\">\n",
       "      <th></th>\n",
       "      <th>price</th>\n",
       "      <th>mileage</th>\n",
       "      <th>power</th>\n",
       "      <th>make_model</th>\n",
       "      <th>date</th>\n",
       "      <th>fuel</th>\n",
       "      <th>gear</th>\n",
       "      <th>offer_type</th>\n",
       "      <th>version</th>\n",
       "      <th>link</th>\n",
       "    </tr>\n",
       "  </thead>\n",
       "  <tbody>\n",
       "    <tr>\n",
       "      <th>0</th>\n",
       "      <td>23990</td>\n",
       "      <td>150</td>\n",
       "      <td>218.0</td>\n",
       "      <td>Honda</td>\n",
       "      <td>03/2020</td>\n",
       "      <td>Gasoline</td>\n",
       "      <td>Manual</td>\n",
       "      <td>Demonstration</td>\n",
       "      <td>CBR1000RR-R Fireblade SP</td>\n",
       "      <td>/offers/honda-others-cbr1000rr-r-fireblade-sp-...</td>\n",
       "    </tr>\n",
       "    <tr>\n",
       "      <th>1</th>\n",
       "      <td>7500</td>\n",
       "      <td>2871</td>\n",
       "      <td>90.0</td>\n",
       "      <td>BMW F 800 GT</td>\n",
       "      <td>09/2018</td>\n",
       "      <td>Gasoline</td>\n",
       "      <td>Manual</td>\n",
       "      <td>Used</td>\n",
       "      <td>NaN</td>\n",
       "      <td>/offers/bmw-f-800-gt-gasoline-white-f65273c6-6...</td>\n",
       "    </tr>\n",
       "    <tr>\n",
       "      <th>2</th>\n",
       "      <td>800</td>\n",
       "      <td>1700</td>\n",
       "      <td>3.0</td>\n",
       "      <td>Nova Motors Retro Star</td>\n",
       "      <td>10/2019</td>\n",
       "      <td>Gasoline</td>\n",
       "      <td>NaN</td>\n",
       "      <td>Used</td>\n",
       "      <td>NaN</td>\n",
       "      <td>/offers/nova-motors-retro-star-gasoline-red-f8...</td>\n",
       "    </tr>\n",
       "    <tr>\n",
       "      <th>3</th>\n",
       "      <td>14990</td>\n",
       "      <td>24345</td>\n",
       "      <td>NaN</td>\n",
       "      <td>Aprilia RSV4</td>\n",
       "      <td>03/2016</td>\n",
       "      <td>Gasoline</td>\n",
       "      <td>NaN</td>\n",
       "      <td>Used</td>\n",
       "      <td>RF</td>\n",
       "      <td>/offers/aprilia-rsv4-rf-gasoline-silver-1b51fe...</td>\n",
       "    </tr>\n",
       "    <tr>\n",
       "      <th>4</th>\n",
       "      <td>6200</td>\n",
       "      <td>25000</td>\n",
       "      <td>128.0</td>\n",
       "      <td>Kawasaki Ninja ZX-6R</td>\n",
       "      <td>08/2009</td>\n",
       "      <td>Gasoline</td>\n",
       "      <td>NaN</td>\n",
       "      <td>Used</td>\n",
       "      <td>NaN</td>\n",
       "      <td>/offers/kawasaki-ninja-zx-6r-gasoline-blue-2f8...</td>\n",
       "    </tr>\n",
       "  </tbody>\n",
       "</table>\n",
       "</div>"
      ],
      "text/plain": [
       "   price  mileage  power              make_model     date      fuel    gear  \\\n",
       "0  23990      150  218.0                   Honda  03/2020  Gasoline  Manual   \n",
       "1   7500     2871   90.0            BMW F 800 GT  09/2018  Gasoline  Manual   \n",
       "2    800     1700    3.0  Nova Motors Retro Star  10/2019  Gasoline     NaN   \n",
       "3  14990    24345    NaN            Aprilia RSV4  03/2016  Gasoline     NaN   \n",
       "4   6200    25000  128.0    Kawasaki Ninja ZX-6R  08/2009  Gasoline     NaN   \n",
       "\n",
       "      offer_type                   version  \\\n",
       "0  Demonstration  CBR1000RR-R Fireblade SP   \n",
       "1           Used                       NaN   \n",
       "2           Used                       NaN   \n",
       "3           Used                        RF   \n",
       "4           Used                       NaN   \n",
       "\n",
       "                                                link  \n",
       "0  /offers/honda-others-cbr1000rr-r-fireblade-sp-...  \n",
       "1  /offers/bmw-f-800-gt-gasoline-white-f65273c6-6...  \n",
       "2  /offers/nova-motors-retro-star-gasoline-red-f8...  \n",
       "3  /offers/aprilia-rsv4-rf-gasoline-silver-1b51fe...  \n",
       "4  /offers/kawasaki-ninja-zx-6r-gasoline-blue-2f8...  "
      ]
     },
     "execution_count": 3,
     "metadata": {},
     "output_type": "execute_result"
    }
   ],
   "source": [
    "dataset = pd.read_csv('Motorbikes_Dataset.csv')\n",
    "dataset.head()"
   ]
  },
  {
   "cell_type": "code",
   "execution_count": 4,
   "id": "f15cce42",
   "metadata": {},
   "outputs": [
    {
     "data": {
      "text/html": [
       "<div>\n",
       "<style scoped>\n",
       "    .dataframe tbody tr th:only-of-type {\n",
       "        vertical-align: middle;\n",
       "    }\n",
       "\n",
       "    .dataframe tbody tr th {\n",
       "        vertical-align: top;\n",
       "    }\n",
       "\n",
       "    .dataframe thead th {\n",
       "        text-align: right;\n",
       "    }\n",
       "</style>\n",
       "<table border=\"1\" class=\"dataframe\">\n",
       "  <thead>\n",
       "    <tr style=\"text-align: right;\">\n",
       "      <th></th>\n",
       "      <th>price</th>\n",
       "      <th>mileage</th>\n",
       "      <th>power</th>\n",
       "      <th>make_model</th>\n",
       "      <th>fuel</th>\n",
       "      <th>gear</th>\n",
       "    </tr>\n",
       "  </thead>\n",
       "  <tbody>\n",
       "    <tr>\n",
       "      <th>0</th>\n",
       "      <td>23990</td>\n",
       "      <td>150</td>\n",
       "      <td>218.0</td>\n",
       "      <td>Honda</td>\n",
       "      <td>Gasoline</td>\n",
       "      <td>Manual</td>\n",
       "    </tr>\n",
       "    <tr>\n",
       "      <th>1</th>\n",
       "      <td>7500</td>\n",
       "      <td>2871</td>\n",
       "      <td>90.0</td>\n",
       "      <td>BMW F 800 GT</td>\n",
       "      <td>Gasoline</td>\n",
       "      <td>Manual</td>\n",
       "    </tr>\n",
       "    <tr>\n",
       "      <th>2</th>\n",
       "      <td>800</td>\n",
       "      <td>1700</td>\n",
       "      <td>3.0</td>\n",
       "      <td>Nova Motors Retro Star</td>\n",
       "      <td>Gasoline</td>\n",
       "      <td>NaN</td>\n",
       "    </tr>\n",
       "    <tr>\n",
       "      <th>3</th>\n",
       "      <td>14990</td>\n",
       "      <td>24345</td>\n",
       "      <td>NaN</td>\n",
       "      <td>Aprilia RSV4</td>\n",
       "      <td>Gasoline</td>\n",
       "      <td>NaN</td>\n",
       "    </tr>\n",
       "    <tr>\n",
       "      <th>4</th>\n",
       "      <td>6200</td>\n",
       "      <td>25000</td>\n",
       "      <td>128.0</td>\n",
       "      <td>Kawasaki Ninja ZX-6R</td>\n",
       "      <td>Gasoline</td>\n",
       "      <td>NaN</td>\n",
       "    </tr>\n",
       "  </tbody>\n",
       "</table>\n",
       "</div>"
      ],
      "text/plain": [
       "   price  mileage  power              make_model      fuel    gear\n",
       "0  23990      150  218.0                   Honda  Gasoline  Manual\n",
       "1   7500     2871   90.0            BMW F 800 GT  Gasoline  Manual\n",
       "2    800     1700    3.0  Nova Motors Retro Star  Gasoline     NaN\n",
       "3  14990    24345    NaN            Aprilia RSV4  Gasoline     NaN\n",
       "4   6200    25000  128.0    Kawasaki Ninja ZX-6R  Gasoline     NaN"
      ]
     },
     "execution_count": 4,
     "metadata": {},
     "output_type": "execute_result"
    }
   ],
   "source": [
    "dataset = dataset.drop(['date', 'offer_type', 'version', 'link'], axis = 1)\n",
    "dataset.head()"
   ]
  },
  {
   "cell_type": "code",
   "execution_count": 5,
   "id": "ce7db5f0",
   "metadata": {},
   "outputs": [
    {
     "name": "stdout",
     "output_type": "stream",
     "text": [
      "<class 'pandas.core.frame.DataFrame'>\n",
      "RangeIndex: 34917 entries, 0 to 34916\n",
      "Data columns (total 6 columns):\n",
      " #   Column      Non-Null Count  Dtype  \n",
      "---  ------      --------------  -----  \n",
      " 0   price       34917 non-null  int64  \n",
      " 1   mileage     34917 non-null  int64  \n",
      " 2   power       28598 non-null  float64\n",
      " 3   make_model  34917 non-null  object \n",
      " 4   fuel        31727 non-null  object \n",
      " 5   gear        12847 non-null  object \n",
      "dtypes: float64(1), int64(2), object(3)\n",
      "memory usage: 1.6+ MB\n"
     ]
    },
    {
     "data": {
      "text/html": [
       "<div>\n",
       "<style scoped>\n",
       "    .dataframe tbody tr th:only-of-type {\n",
       "        vertical-align: middle;\n",
       "    }\n",
       "\n",
       "    .dataframe tbody tr th {\n",
       "        vertical-align: top;\n",
       "    }\n",
       "\n",
       "    .dataframe thead th {\n",
       "        text-align: right;\n",
       "    }\n",
       "</style>\n",
       "<table border=\"1\" class=\"dataframe\">\n",
       "  <thead>\n",
       "    <tr style=\"text-align: right;\">\n",
       "      <th></th>\n",
       "      <th>price</th>\n",
       "      <th>mileage</th>\n",
       "      <th>power</th>\n",
       "    </tr>\n",
       "  </thead>\n",
       "  <tbody>\n",
       "    <tr>\n",
       "      <th>count</th>\n",
       "      <td>3.491700e+04</td>\n",
       "      <td>3.491700e+04</td>\n",
       "      <td>28598.000000</td>\n",
       "    </tr>\n",
       "    <tr>\n",
       "      <th>mean</th>\n",
       "      <td>4.568532e+04</td>\n",
       "      <td>2.183175e+04</td>\n",
       "      <td>206.157598</td>\n",
       "    </tr>\n",
       "    <tr>\n",
       "      <th>std</th>\n",
       "      <td>4.850120e+06</td>\n",
       "      <td>2.059421e+05</td>\n",
       "      <td>9371.426466</td>\n",
       "    </tr>\n",
       "    <tr>\n",
       "      <th>min</th>\n",
       "      <td>1.000000e+00</td>\n",
       "      <td>0.000000e+00</td>\n",
       "      <td>1.000000</td>\n",
       "    </tr>\n",
       "    <tr>\n",
       "      <th>25%</th>\n",
       "      <td>6.999000e+03</td>\n",
       "      <td>2.932000e+03</td>\n",
       "      <td>50.000000</td>\n",
       "    </tr>\n",
       "    <tr>\n",
       "      <th>50%</th>\n",
       "      <td>9.920000e+03</td>\n",
       "      <td>1.100000e+04</td>\n",
       "      <td>90.000000</td>\n",
       "    </tr>\n",
       "    <tr>\n",
       "      <th>75%</th>\n",
       "      <td>1.259000e+04</td>\n",
       "      <td>2.500000e+04</td>\n",
       "      <td>125.000000</td>\n",
       "    </tr>\n",
       "    <tr>\n",
       "      <th>max</th>\n",
       "      <td>8.888889e+08</td>\n",
       "      <td>9.999999e+06</td>\n",
       "      <td>913595.000000</td>\n",
       "    </tr>\n",
       "  </tbody>\n",
       "</table>\n",
       "</div>"
      ],
      "text/plain": [
       "              price       mileage          power\n",
       "count  3.491700e+04  3.491700e+04   28598.000000\n",
       "mean   4.568532e+04  2.183175e+04     206.157598\n",
       "std    4.850120e+06  2.059421e+05    9371.426466\n",
       "min    1.000000e+00  0.000000e+00       1.000000\n",
       "25%    6.999000e+03  2.932000e+03      50.000000\n",
       "50%    9.920000e+03  1.100000e+04      90.000000\n",
       "75%    1.259000e+04  2.500000e+04     125.000000\n",
       "max    8.888889e+08  9.999999e+06  913595.000000"
      ]
     },
     "execution_count": 5,
     "metadata": {},
     "output_type": "execute_result"
    }
   ],
   "source": [
    "dataset.info()\n",
    "dataset.describe()"
   ]
  },
  {
   "cell_type": "code",
   "execution_count": 6,
   "id": "7697aa07",
   "metadata": {},
   "outputs": [
    {
     "data": {
      "text/plain": [
       "Index(['price', 'mileage', 'power', 'make_model', 'fuel', 'gear'], dtype='object')"
      ]
     },
     "execution_count": 6,
     "metadata": {},
     "output_type": "execute_result"
    }
   ],
   "source": [
    "dataset.columns"
   ]
  },
  {
   "cell_type": "code",
   "execution_count": 7,
   "id": "37e06608",
   "metadata": {},
   "outputs": [
    {
     "data": {
      "text/plain": [
       "(34917, 6)"
      ]
     },
     "execution_count": 7,
     "metadata": {},
     "output_type": "execute_result"
    }
   ],
   "source": [
    "dataset.shape"
   ]
  },
  {
   "cell_type": "code",
   "execution_count": 8,
   "id": "ba422961",
   "metadata": {},
   "outputs": [
    {
     "data": {
      "text/plain": [
       "price             0\n",
       "mileage           0\n",
       "power          6319\n",
       "make_model        0\n",
       "fuel           3190\n",
       "gear          22070\n",
       "dtype: int64"
      ]
     },
     "execution_count": 8,
     "metadata": {},
     "output_type": "execute_result"
    }
   ],
   "source": [
    "dataset.isna().sum()"
   ]
  },
  {
   "cell_type": "code",
   "execution_count": 9,
   "id": "77e92e98",
   "metadata": {},
   "outputs": [
    {
     "data": {
      "text/html": [
       "<div>\n",
       "<style scoped>\n",
       "    .dataframe tbody tr th:only-of-type {\n",
       "        vertical-align: middle;\n",
       "    }\n",
       "\n",
       "    .dataframe tbody tr th {\n",
       "        vertical-align: top;\n",
       "    }\n",
       "\n",
       "    .dataframe thead th {\n",
       "        text-align: right;\n",
       "    }\n",
       "</style>\n",
       "<table border=\"1\" class=\"dataframe\">\n",
       "  <thead>\n",
       "    <tr style=\"text-align: right;\">\n",
       "      <th></th>\n",
       "      <th>price</th>\n",
       "      <th>mileage</th>\n",
       "      <th>make_model</th>\n",
       "      <th>fuel</th>\n",
       "    </tr>\n",
       "  </thead>\n",
       "  <tbody>\n",
       "    <tr>\n",
       "      <th>0</th>\n",
       "      <td>23990</td>\n",
       "      <td>150</td>\n",
       "      <td>Honda</td>\n",
       "      <td>Gasoline</td>\n",
       "    </tr>\n",
       "    <tr>\n",
       "      <th>1</th>\n",
       "      <td>7500</td>\n",
       "      <td>2871</td>\n",
       "      <td>BMW F 800 GT</td>\n",
       "      <td>Gasoline</td>\n",
       "    </tr>\n",
       "  </tbody>\n",
       "</table>\n",
       "</div>"
      ],
      "text/plain": [
       "   price  mileage    make_model      fuel\n",
       "0  23990      150         Honda  Gasoline\n",
       "1   7500     2871  BMW F 800 GT  Gasoline"
      ]
     },
     "execution_count": 9,
     "metadata": {},
     "output_type": "execute_result"
    }
   ],
   "source": [
    "dataset = dataset.drop(['gear', 'power'], axis = 1)\n",
    "dataset.head(2)"
   ]
  },
  {
   "cell_type": "code",
   "execution_count": 10,
   "id": "518b7afc",
   "metadata": {},
   "outputs": [
    {
     "data": {
      "text/plain": [
       "price            0\n",
       "mileage          0\n",
       "make_model       0\n",
       "fuel          3190\n",
       "dtype: int64"
      ]
     },
     "execution_count": 10,
     "metadata": {},
     "output_type": "execute_result"
    }
   ],
   "source": [
    "dataset.isna().sum()"
   ]
  },
  {
   "cell_type": "code",
   "execution_count": 11,
   "id": "f19b2154",
   "metadata": {},
   "outputs": [
    {
     "data": {
      "text/plain": [
       "price         0\n",
       "mileage       0\n",
       "make_model    0\n",
       "fuel          0\n",
       "dtype: int64"
      ]
     },
     "execution_count": 11,
     "metadata": {},
     "output_type": "execute_result"
    }
   ],
   "source": [
    "dataset = dataset.dropna()\n",
    "dataset.isna().sum()"
   ]
  },
  {
   "cell_type": "code",
   "execution_count": 12,
   "id": "a1dd78ed",
   "metadata": {},
   "outputs": [
    {
     "data": {
      "text/plain": [
       "6027"
      ]
     },
     "execution_count": 12,
     "metadata": {},
     "output_type": "execute_result"
    }
   ],
   "source": [
    "dataset.duplicated().sum()"
   ]
  },
  {
   "cell_type": "code",
   "execution_count": 13,
   "id": "8bef7279",
   "metadata": {},
   "outputs": [
    {
     "data": {
      "text/plain": [
       "0"
      ]
     },
     "execution_count": 13,
     "metadata": {},
     "output_type": "execute_result"
    }
   ],
   "source": [
    "dataset = dataset.drop_duplicates()\n",
    "dataset.duplicated().sum()"
   ]
  },
  {
   "cell_type": "code",
   "execution_count": 14,
   "id": "62856592",
   "metadata": {},
   "outputs": [
    {
     "data": {
      "text/html": [
       "<div>\n",
       "<style scoped>\n",
       "    .dataframe tbody tr th:only-of-type {\n",
       "        vertical-align: middle;\n",
       "    }\n",
       "\n",
       "    .dataframe tbody tr th {\n",
       "        vertical-align: top;\n",
       "    }\n",
       "\n",
       "    .dataframe thead th {\n",
       "        text-align: right;\n",
       "    }\n",
       "</style>\n",
       "<table border=\"1\" class=\"dataframe\">\n",
       "  <thead>\n",
       "    <tr style=\"text-align: right;\">\n",
       "      <th></th>\n",
       "      <th>price</th>\n",
       "      <th>mileage</th>\n",
       "      <th>make_model</th>\n",
       "      <th>fuel</th>\n",
       "    </tr>\n",
       "  </thead>\n",
       "  <tbody>\n",
       "    <tr>\n",
       "      <th>0</th>\n",
       "      <td>23990</td>\n",
       "      <td>150</td>\n",
       "      <td>Honda</td>\n",
       "      <td>Gasoline</td>\n",
       "    </tr>\n",
       "    <tr>\n",
       "      <th>1</th>\n",
       "      <td>7500</td>\n",
       "      <td>2871</td>\n",
       "      <td>BMW F 800 GT</td>\n",
       "      <td>Gasoline</td>\n",
       "    </tr>\n",
       "  </tbody>\n",
       "</table>\n",
       "</div>"
      ],
      "text/plain": [
       "   price  mileage    make_model      fuel\n",
       "0  23990      150         Honda  Gasoline\n",
       "1   7500     2871  BMW F 800 GT  Gasoline"
      ]
     },
     "execution_count": 14,
     "metadata": {},
     "output_type": "execute_result"
    }
   ],
   "source": [
    "dataset.head(2)"
   ]
  },
  {
   "cell_type": "code",
   "execution_count": 36,
   "id": "c5afd38e",
   "metadata": {},
   "outputs": [
    {
     "data": {
      "image/png": "[encoded data removed]",
      "text/plain": [
       "<Figure size 600x400 with 1 Axes>"
      ]
     },
     "metadata": {},
     "output_type": "display_data"
    }
   ],
   "source": [
    "dataset['fuel'].value_counts().sort_values(ascending=False).plot(kind='pie', figsize=(6,4), color = ['red', 'blue'])\n",
    "plt.title('Fuel Distribution')\n",
    "plt.xlabel('Count')\n",
    "plt.ylabel('Fuel Type')\n",
    "plt.tight_layout()\n",
    "plt.show()"
   ]
  },
  {
   "cell_type": "code",
   "execution_count": 21,
   "id": "2f8deabb",
   "metadata": {},
   "outputs": [
    {
     "data": {
      "image/png": "[encoded data removed]",
      "text/plain": [
       "<Figure size 600x400 with 1 Axes>"
      ]
     },
     "metadata": {},
     "output_type": "display_data"
    }
   ],
   "source": [
    "dataset['make_model'].value_counts().sort_values(ascending=False).head(20).plot(kind='bar', figsize=(6,4), color = ['red', 'blue'])\n",
    "plt.title('Model Distribution')\n",
    "plt.xlabel('Model Type')\n",
    "plt.ylabel('Count')\n",
    "plt.xticks(rotation=90)\n",
    "plt.tight_layout()\n",
    "plt.show()"
   ]
  },
  {
   "cell_type": "code",
   "execution_count": 37,
   "id": "8d19f959",
   "metadata": {},
   "outputs": [
    {
     "data": {
      "image/png": "[encoded data removed]",
      "text/plain": [
       "<Figure size 640x480 with 1 Axes>"
      ]
     },
     "metadata": {},
     "output_type": "display_data"
    }
   ],
   "source": [
    "counts = dataset.groupby('make_model')['price'].mean().sort_values(ascending=False).head(10).plot(kind='barh', color= ['blue', 'orange'])\n",
    "plt.title('Model by Average Price')\n",
    "plt.xlabel('Average Price')\n",
    "plt.ylabel('Model name')\n",
    "plt.xticks(rotation=45)\n",
    "plt.show()"
   ]
  },
  {
   "cell_type": "code",
   "execution_count": 38,
   "id": "6b0b13a9",
   "metadata": {},
   "outputs": [
    {
     "data": {
      "text/html": [
       "<div>\n",
       "<style scoped>\n",
       "    .dataframe tbody tr th:only-of-type {\n",
       "        vertical-align: middle;\n",
       "    }\n",
       "\n",
       "    .dataframe tbody tr th {\n",
       "        vertical-align: top;\n",
       "    }\n",
       "\n",
       "    .dataframe thead th {\n",
       "        text-align: right;\n",
       "    }\n",
       "</style>\n",
       "<table border=\"1\" class=\"dataframe\">\n",
       "  <thead>\n",
       "    <tr style=\"text-align: right;\">\n",
       "      <th></th>\n",
       "      <th>mileage</th>\n",
       "      <th>make_model</th>\n",
       "      <th>fuel</th>\n",
       "      <th>price</th>\n",
       "    </tr>\n",
       "  </thead>\n",
       "  <tbody>\n",
       "    <tr>\n",
       "      <th>0</th>\n",
       "      <td>150</td>\n",
       "      <td>Honda</td>\n",
       "      <td>Gasoline</td>\n",
       "      <td>23990</td>\n",
       "    </tr>\n",
       "    <tr>\n",
       "      <th>1</th>\n",
       "      <td>2871</td>\n",
       "      <td>BMW F 800 GT</td>\n",
       "      <td>Gasoline</td>\n",
       "      <td>7500</td>\n",
       "    </tr>\n",
       "    <tr>\n",
       "      <th>2</th>\n",
       "      <td>1700</td>\n",
       "      <td>Nova Motors Retro Star</td>\n",
       "      <td>Gasoline</td>\n",
       "      <td>800</td>\n",
       "    </tr>\n",
       "    <tr>\n",
       "      <th>3</th>\n",
       "      <td>24345</td>\n",
       "      <td>Aprilia RSV4</td>\n",
       "      <td>Gasoline</td>\n",
       "      <td>14990</td>\n",
       "    </tr>\n",
       "    <tr>\n",
       "      <th>4</th>\n",
       "      <td>25000</td>\n",
       "      <td>Kawasaki Ninja ZX-6R</td>\n",
       "      <td>Gasoline</td>\n",
       "      <td>6200</td>\n",
       "    </tr>\n",
       "  </tbody>\n",
       "</table>\n",
       "</div>"
      ],
      "text/plain": [
       "   mileage              make_model      fuel  price\n",
       "0      150                   Honda  Gasoline  23990\n",
       "1     2871            BMW F 800 GT  Gasoline   7500\n",
       "2     1700  Nova Motors Retro Star  Gasoline    800\n",
       "3    24345            Aprilia RSV4  Gasoline  14990\n",
       "4    25000    Kawasaki Ninja ZX-6R  Gasoline   6200"
      ]
     },
     "execution_count": 38,
     "metadata": {},
     "output_type": "execute_result"
    }
   ],
   "source": [
    "dataset = dataset[['mileage', 'make_model', 'fuel', 'price']]\n",
    "dataset.head()"
   ]
  },
  {
   "cell_type": "code",
   "execution_count": 40,
   "id": "9c23234e",
   "metadata": {},
   "outputs": [
    {
     "data": {
      "text/html": [
       "<div>\n",
       "<style scoped>\n",
       "    .dataframe tbody tr th:only-of-type {\n",
       "        vertical-align: middle;\n",
       "    }\n",
       "\n",
       "    .dataframe tbody tr th {\n",
       "        vertical-align: top;\n",
       "    }\n",
       "\n",
       "    .dataframe thead th {\n",
       "        text-align: right;\n",
       "    }\n",
       "</style>\n",
       "<table border=\"1\" class=\"dataframe\">\n",
       "  <thead>\n",
       "    <tr style=\"text-align: right;\">\n",
       "      <th></th>\n",
       "      <th>mileage</th>\n",
       "      <th>make_model</th>\n",
       "      <th>fuel</th>\n",
       "      <th>price</th>\n",
       "    </tr>\n",
       "  </thead>\n",
       "  <tbody>\n",
       "    <tr>\n",
       "      <th>0</th>\n",
       "      <td>150</td>\n",
       "      <td>702</td>\n",
       "      <td>3</td>\n",
       "      <td>23990</td>\n",
       "    </tr>\n",
       "    <tr>\n",
       "      <th>1</th>\n",
       "      <td>2871</td>\n",
       "      <td>136</td>\n",
       "      <td>3</td>\n",
       "      <td>7500</td>\n",
       "    </tr>\n",
       "  </tbody>\n",
       "</table>\n",
       "</div>"
      ],
      "text/plain": [
       "   mileage  make_model  fuel  price\n",
       "0      150         702     3  23990\n",
       "1     2871         136     3   7500"
      ]
     },
     "execution_count": 40,
     "metadata": {},
     "output_type": "execute_result"
    }
   ],
   "source": [
    "from sklearn.preprocessing import LabelEncoder\n",
    "\n",
    "encoder = LabelEncoder()\n",
    "cat_col = dataset[['make_model', 'fuel']]\n",
    "for col in cat_col:\n",
    "    dataset[col] = encoder.fit_transform(dataset[col])\n",
    "\n",
    "dataset.head(2)"
   ]
  },
  {
   "cell_type": "code",
   "execution_count": 41,
   "id": "64a7cdfc",
   "metadata": {},
   "outputs": [
    {
     "data": {
      "text/html": [
       "<div>\n",
       "<style scoped>\n",
       "    .dataframe tbody tr th:only-of-type {\n",
       "        vertical-align: middle;\n",
       "    }\n",
       "\n",
       "    .dataframe tbody tr th {\n",
       "        vertical-align: top;\n",
       "    }\n",
       "\n",
       "    .dataframe thead th {\n",
       "        text-align: right;\n",
       "    }\n",
       "</style>\n",
       "<table border=\"1\" class=\"dataframe\">\n",
       "  <thead>\n",
       "    <tr style=\"text-align: right;\">\n",
       "      <th></th>\n",
       "      <th>mileage</th>\n",
       "      <th>make_model</th>\n",
       "      <th>fuel</th>\n",
       "      <th>price</th>\n",
       "    </tr>\n",
       "  </thead>\n",
       "  <tbody>\n",
       "    <tr>\n",
       "      <th>mileage</th>\n",
       "      <td>1.000000</td>\n",
       "      <td>-0.012821</td>\n",
       "      <td>-0.020372</td>\n",
       "      <td>0.022284</td>\n",
       "    </tr>\n",
       "    <tr>\n",
       "      <th>make_model</th>\n",
       "      <td>-0.012821</td>\n",
       "      <td>1.000000</td>\n",
       "      <td>0.008202</td>\n",
       "      <td>0.004989</td>\n",
       "    </tr>\n",
       "    <tr>\n",
       "      <th>fuel</th>\n",
       "      <td>-0.020372</td>\n",
       "      <td>0.008202</td>\n",
       "      <td>1.000000</td>\n",
       "      <td>-0.001126</td>\n",
       "    </tr>\n",
       "    <tr>\n",
       "      <th>price</th>\n",
       "      <td>0.022284</td>\n",
       "      <td>0.004989</td>\n",
       "      <td>-0.001126</td>\n",
       "      <td>1.000000</td>\n",
       "    </tr>\n",
       "  </tbody>\n",
       "</table>\n",
       "</div>"
      ],
      "text/plain": [
       "             mileage  make_model      fuel     price\n",
       "mileage     1.000000   -0.012821 -0.020372  0.022284\n",
       "make_model -0.012821    1.000000  0.008202  0.004989\n",
       "fuel       -0.020372    0.008202  1.000000 -0.001126\n",
       "price       0.022284    0.004989 -0.001126  1.000000"
      ]
     },
     "execution_count": 41,
     "metadata": {},
     "output_type": "execute_result"
    }
   ],
   "source": [
    "corr = dataset.corr()\n",
    "corr"
   ]
  },
  {
   "cell_type": "code",
   "execution_count": 43,
   "id": "087f07f5",
   "metadata": {},
   "outputs": [
    {
     "data": {
      "image/png": "[encoded data removed]",
      "text/plain": [
       "<Figure size 600x400 with 2 Axes>"
      ]
     },
     "metadata": {},
     "output_type": "display_data"
    }
   ],
   "source": [
    "plt.figure(figsize=(6,4))\n",
    "sns.heatmap(corr, annot = True, cmap = 'coolwarm')\n",
    "plt.title('Correlation Matrix')\n",
    "plt.xticks(rotation=0)\n",
    "plt.tight_layout()\n",
    "plt.show()"
   ]
  },
  {
   "cell_type": "code",
   "execution_count": 49,
   "id": "9ea4b434",
   "metadata": {},
   "outputs": [
    {
     "data": {
      "text/plain": [
       "0        23990\n",
       "1         7500\n",
       "2          800\n",
       "3        14990\n",
       "4         6200\n",
       "         ...  \n",
       "34910     8450\n",
       "34911    36500\n",
       "34913     8500\n",
       "34915     8350\n",
       "34916     8500\n",
       "Name: price, Length: 25700, dtype: int64"
      ]
     },
     "execution_count": 49,
     "metadata": {},
     "output_type": "execute_result"
    }
   ],
   "source": [
    "x = dataset.drop(['price'], axis = 1)\n",
    "y = dataset['price']\n",
    "x\n",
    "y"
   ]
  },
  {
   "cell_type": "code",
   "execution_count": 51,
   "id": "d87b39a8",
   "metadata": {},
   "outputs": [
    {
     "name": "stdout",
     "output_type": "stream",
     "text": [
      "MAE: 55159.42918168536\n",
      "RMSE: 4156854148046.122\n",
      "R2: -0.3840849803401527\n"
     ]
    }
   ],
   "source": [
    "from sklearn.metrics import mean_absolute_error, mean_squared_error, r2_score\n",
    "from sklearn.ensemble import RandomForestRegressor\n",
    "from sklearn.model_selection import train_test_split\n",
    "from sklearn.preprocessing import StandardScaler\n",
    "x_train, x_test, y_train, y_test = train_test_split(x, y, test_size=0.2, random_state=42)\n",
    "\n",
    "scaler = StandardScaler()\n",
    "x_train = scaler.fit_transform(x_train)\n",
    "x_test = scaler.transform(x_test)\n",
    "\n",
    "rfr_model = RandomForestRegressor(n_estimators=200, random_state=42)\n",
    "rfr_model.fit(x_train, y_train)\n",
    "\n",
    "y_pred = rfr_model.predict(x_test)\n",
    "\n",
    "print(\"MAE:\", mean_absolute_error(y_test, y_pred))\n",
    "print(\"RMSE:\", mean_squared_error(y_test, y_pred))\n",
    "print(\"R2:\", r2_score(y_test, y_pred))"
   ]
  },
  {
   "cell_type": "code",
   "execution_count": 53,
   "id": "50cfcc1f",
   "metadata": {},
   "outputs": [
    {
     "name": "stdout",
     "output_type": "stream",
     "text": [
      "MAE: 29587.210702764594\n",
      "RMSE: 2984645496130.2544\n",
      "R2: 0.006218920436384501\n",
      "\n",
      "\n",
      "\n",
      "MAE: 78400.5999141989\n",
      "RMSE: 2983634811647.524\n",
      "R2: 0.006555442518369925\n"
     ]
    }
   ],
   "source": [
    "from sklearn.tree import DecisionTreeRegressor\n",
    "\n",
    "dtr_model = DecisionTreeRegressor()\n",
    "dtr_model.fit(x_train, y_train)\n",
    "\n",
    "y_pred = dtr_model.predict(x_test)\n",
    "\n",
    "print(\"MAE:\", mean_absolute_error(y_test, y_pred))\n",
    "print(\"RMSE:\", mean_squared_error(y_test, y_pred))\n",
    "print(\"R2:\", r2_score(y_test, y_pred))\n",
    "print(\"\\n\\n\")\n",
    "\n",
    "from sklearn.linear_model import LinearRegression\n",
    "\n",
    "lr_model = LinearRegression()\n",
    "lr_model.fit(x_train, y_train)\n",
    "\n",
    "y_pred = lr_model.predict(x_test)\n",
    "\n",
    "print(\"MAE:\", mean_absolute_error(y_test, y_pred))\n",
    "print(\"RMSE:\", mean_squared_error(y_test, y_pred))\n",
    "print(\"R2:\", r2_score(y_test, y_pred))"
   ]
  },
  {
   "cell_type": "code",
   "execution_count": 56,
   "id": "8f0426d5",
   "metadata": {},
   "outputs": [
    {
     "name": "stdout",
     "output_type": "stream",
     "text": [
      "Best Params: {'alpha': 10, 'l1_ratio': 0.5, 'max_iter': 1000}\n",
      "Best CV Score: -2.7122347033465593\n",
      "R² Score (Test): 0.0016683008002543742\n",
      "MAE: 79708.83229048058\n",
      "RMSE: 2998312476394.702\n"
     ]
    }
   ],
   "source": [
    "from sklearn.model_selection import GridSearchCV\n",
    "from sklearn.linear_model import Ridge, Lasso, ElasticNet\n",
    "\n",
    "# Ridge Regression\n",
    "param_grid_ridge = {\n",
    "    'alpha': [0.01, 0.1, 1, 10, 100],   # regularization strength\n",
    "    'solver': ['auto', 'svd', 'cholesky', 'lsqr', 'sparse_cg', 'saga']\n",
    "}\n",
    "grid_ridge = GridSearchCV(Ridge(), param_grid_ridge, cv=5, n_jobs=-1)\n",
    "grid_ridge.fit(x_train, y_train)\n",
    "\n",
    "# Lasso Regression\n",
    "param_grid_lasso = {\n",
    "    'alpha': [0.01, 0.1, 1, 10, 100],\n",
    "    'max_iter': [1000, 5000]\n",
    "}\n",
    "grid_lasso = GridSearchCV(Lasso(), param_grid_lasso, cv=5, n_jobs=-1)\n",
    "grid_lasso.fit(x_train, y_train)\n",
    "\n",
    "# ElasticNet\n",
    "param_grid_en = {\n",
    "    'alpha': [0.01, 0.1, 1, 10, 100],\n",
    "    'l1_ratio': [0.1, 0.5, 0.9],   # balance between Lasso & Ridge\n",
    "    'max_iter': [1000, 5000]\n",
    "}\n",
    "grid_en = GridSearchCV(ElasticNet(), param_grid_en, cv=5, n_jobs=-1)\n",
    "grid_en.fit(x_train, y_train)\n",
    "\n",
    "from sklearn.metrics import mean_absolute_error, mean_squared_error, r2_score\n",
    "\n",
    "y_pred = grid_en.predict(x_test)\n",
    "\n",
    "print(\"Best Params:\", grid_en.best_params_)\n",
    "print(\"Best CV Score:\", grid_en.best_score_)   # Default is R² for regressors\n",
    "print(\"R² Score (Test):\", r2_score(y_test, y_pred))\n",
    "print(\"MAE:\", mean_absolute_error(y_test, y_pred))\n",
    "print(\"RMSE:\", mean_squared_error(y_test, y_pred))"
   ]
  },
  {
   "cell_type": "code",
   "execution_count": 57,
   "id": "d79be5fb",
   "metadata": {},
   "outputs": [
    {
     "name": "stdout",
     "output_type": "stream",
     "text": [
      "[[ 8385.505      11900.        ]\n",
      " [10098.35       10062.        ]\n",
      " [ 8074.21        6999.        ]\n",
      " ...\n",
      " [10101.73333333 10200.        ]\n",
      " [ 9086.95        7500.        ]\n",
      " [ 8347.70571429  7900.        ]]\n"
     ]
    }
   ],
   "source": [
    "y_pred = rfr_model.predict(x_test)\n",
    "print(np.concatenate((y_pred.reshape(len(y_pred), 1), y_test.to_numpy().reshape(len(y_test), 1)), axis=1))"
   ]
  },
  {
   "cell_type": "code",
   "execution_count": 59,
   "id": "baaf7bca",
   "metadata": {},
   "outputs": [
    {
     "data": {
      "text/html": [
       "<div>\n",
       "<style scoped>\n",
       "    .dataframe tbody tr th:only-of-type {\n",
       "        vertical-align: middle;\n",
       "    }\n",
       "\n",
       "    .dataframe tbody tr th {\n",
       "        vertical-align: top;\n",
       "    }\n",
       "\n",
       "    .dataframe thead th {\n",
       "        text-align: right;\n",
       "    }\n",
       "</style>\n",
       "<table border=\"1\" class=\"dataframe\">\n",
       "  <thead>\n",
       "    <tr style=\"text-align: right;\">\n",
       "      <th></th>\n",
       "      <th>mileage</th>\n",
       "      <th>make_model</th>\n",
       "      <th>fuel</th>\n",
       "    </tr>\n",
       "  </thead>\n",
       "  <tbody>\n",
       "    <tr>\n",
       "      <th>26239</th>\n",
       "      <td>27552</td>\n",
       "      <td>1819</td>\n",
       "      <td>3</td>\n",
       "    </tr>\n",
       "    <tr>\n",
       "      <th>8702</th>\n",
       "      <td>27500</td>\n",
       "      <td>709</td>\n",
       "      <td>3</td>\n",
       "    </tr>\n",
       "    <tr>\n",
       "      <th>707</th>\n",
       "      <td>8800</td>\n",
       "      <td>692</td>\n",
       "      <td>3</td>\n",
       "    </tr>\n",
       "    <tr>\n",
       "      <th>32481</th>\n",
       "      <td>25500</td>\n",
       "      <td>1474</td>\n",
       "      <td>3</td>\n",
       "    </tr>\n",
       "    <tr>\n",
       "      <th>34506</th>\n",
       "      <td>16500</td>\n",
       "      <td>640</td>\n",
       "      <td>3</td>\n",
       "    </tr>\n",
       "  </tbody>\n",
       "</table>\n",
       "</div>"
      ],
      "text/plain": [
       "       mileage  make_model  fuel\n",
       "26239    27552        1819     3\n",
       "8702     27500         709     3\n",
       "707       8800         692     3\n",
       "32481    25500        1474     3\n",
       "34506    16500         640     3"
      ]
     },
     "execution_count": 59,
     "metadata": {},
     "output_type": "execute_result"
    }
   ],
   "source": [
    "x.sample(5)"
   ]
  },
  {
   "cell_type": "code",
   "execution_count": 60,
   "id": "498c2e0d",
   "metadata": {},
   "outputs": [
    {
     "data": {
      "text/plain": [
       "9590"
      ]
     },
     "execution_count": 60,
     "metadata": {},
     "output_type": "execute_result"
    }
   ],
   "source": [
    "y.iloc[707]"
   ]
  },
  {
   "cell_type": "code",
   "execution_count": 61,
   "id": "a9a06e39",
   "metadata": {},
   "outputs": [
    {
     "name": "stdout",
     "output_type": "stream",
     "text": [
      "Accuracy: 6000.00\n"
     ]
    }
   ],
   "source": [
    "user_input = [[8800, 692, 3]]\n",
    "results = dtr_model.predict(user_input)[0]\n",
    "print(f\"Accuracy: {results:.2f}\")"
   ]
  }
 ],
 "metadata": {
  "kernelspec": {
   "display_name": "Python 3",
   "language": "python",
   "name": "python3"
  },
  "language_info": {
   "codemirror_mode": {
    "name": "ipython",
    "version": 3
   },
   "file_extension": ".py",
   "mimetype": "text/x-python",
   "name": "python",
   "nbconvert_exporter": "python",
   "pygments_lexer": "ipython3",
   "version": "3.9.6"
  }
 },
 "nbformat": 4,
 "nbformat_minor": 5
}
