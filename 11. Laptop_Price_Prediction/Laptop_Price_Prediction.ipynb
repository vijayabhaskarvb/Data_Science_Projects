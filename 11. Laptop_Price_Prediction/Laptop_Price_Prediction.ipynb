{
 "cells": [
  {
   "cell_type": "code",
   "execution_count": 158,
   "id": "30af9ede",
   "metadata": {},
   "outputs": [],
   "source": [
    "import numpy as np\n",
    "import pandas as pd\n",
    "import matplotlib.pyplot as plt\n",
    "import seaborn as sns"
   ]
  },
  {
   "cell_type": "code",
   "execution_count": 159,
   "id": "95956195",
   "metadata": {},
   "outputs": [
    {
     "data": {
      "text/html": [
       "<div>\n",
       "<style scoped>\n",
       "    .dataframe tbody tr th:only-of-type {\n",
       "        vertical-align: middle;\n",
       "    }\n",
       "\n",
       "    .dataframe tbody tr th {\n",
       "        vertical-align: top;\n",
       "    }\n",
       "\n",
       "    .dataframe thead th {\n",
       "        text-align: right;\n",
       "    }\n",
       "</style>\n",
       "<table border=\"1\" class=\"dataframe\">\n",
       "  <thead>\n",
       "    <tr style=\"text-align: right;\">\n",
       "      <th></th>\n",
       "      <th>Brand</th>\n",
       "      <th>Processor_Speed</th>\n",
       "      <th>RAM_Size</th>\n",
       "      <th>Storage_Capacity</th>\n",
       "      <th>Screen_Size</th>\n",
       "      <th>Weight</th>\n",
       "      <th>Price</th>\n",
       "    </tr>\n",
       "  </thead>\n",
       "  <tbody>\n",
       "    <tr>\n",
       "      <th>0</th>\n",
       "      <td>Asus</td>\n",
       "      <td>3.830296</td>\n",
       "      <td>16</td>\n",
       "      <td>512</td>\n",
       "      <td>11.185147</td>\n",
       "      <td>2.641094</td>\n",
       "      <td>17395.093065</td>\n",
       "    </tr>\n",
       "    <tr>\n",
       "      <th>1</th>\n",
       "      <td>Acer</td>\n",
       "      <td>2.912833</td>\n",
       "      <td>4</td>\n",
       "      <td>1000</td>\n",
       "      <td>11.311372</td>\n",
       "      <td>3.260012</td>\n",
       "      <td>31607.605919</td>\n",
       "    </tr>\n",
       "    <tr>\n",
       "      <th>2</th>\n",
       "      <td>Lenovo</td>\n",
       "      <td>3.241627</td>\n",
       "      <td>4</td>\n",
       "      <td>256</td>\n",
       "      <td>11.853023</td>\n",
       "      <td>2.029061</td>\n",
       "      <td>9291.023542</td>\n",
       "    </tr>\n",
       "    <tr>\n",
       "      <th>3</th>\n",
       "      <td>Acer</td>\n",
       "      <td>3.806248</td>\n",
       "      <td>16</td>\n",
       "      <td>512</td>\n",
       "      <td>12.280360</td>\n",
       "      <td>4.573865</td>\n",
       "      <td>17436.728334</td>\n",
       "    </tr>\n",
       "    <tr>\n",
       "      <th>4</th>\n",
       "      <td>Acer</td>\n",
       "      <td>3.268097</td>\n",
       "      <td>32</td>\n",
       "      <td>1000</td>\n",
       "      <td>14.990877</td>\n",
       "      <td>4.193472</td>\n",
       "      <td>32917.990718</td>\n",
       "    </tr>\n",
       "  </tbody>\n",
       "</table>\n",
       "</div>"
      ],
      "text/plain": [
       "    Brand  Processor_Speed  RAM_Size  Storage_Capacity  Screen_Size    Weight  \\\n",
       "0    Asus         3.830296        16               512    11.185147  2.641094   \n",
       "1    Acer         2.912833         4              1000    11.311372  3.260012   \n",
       "2  Lenovo         3.241627         4               256    11.853023  2.029061   \n",
       "3    Acer         3.806248        16               512    12.280360  4.573865   \n",
       "4    Acer         3.268097        32              1000    14.990877  4.193472   \n",
       "\n",
       "          Price  \n",
       "0  17395.093065  \n",
       "1  31607.605919  \n",
       "2   9291.023542  \n",
       "3  17436.728334  \n",
       "4  32917.990718  "
      ]
     },
     "execution_count": 159,
     "metadata": {},
     "output_type": "execute_result"
    }
   ],
   "source": [
    "dataset = pd.read_csv('Laptop_price.csv')\n",
    "dataset.head()"
   ]
  },
  {
   "cell_type": "code",
   "execution_count": 160,
   "id": "ff2297c7",
   "metadata": {},
   "outputs": [
    {
     "name": "stdout",
     "output_type": "stream",
     "text": [
      "<class 'pandas.core.frame.DataFrame'>\n",
      "RangeIndex: 1000 entries, 0 to 999\n",
      "Data columns (total 7 columns):\n",
      " #   Column            Non-Null Count  Dtype  \n",
      "---  ------            --------------  -----  \n",
      " 0   Brand             1000 non-null   object \n",
      " 1   Processor_Speed   1000 non-null   float64\n",
      " 2   RAM_Size          1000 non-null   int64  \n",
      " 3   Storage_Capacity  1000 non-null   int64  \n",
      " 4   Screen_Size       1000 non-null   float64\n",
      " 5   Weight            1000 non-null   float64\n",
      " 6   Price             1000 non-null   float64\n",
      "dtypes: float64(4), int64(2), object(1)\n",
      "memory usage: 54.8+ KB\n"
     ]
    },
    {
     "data": {
      "text/html": [
       "<div>\n",
       "<style scoped>\n",
       "    .dataframe tbody tr th:only-of-type {\n",
       "        vertical-align: middle;\n",
       "    }\n",
       "\n",
       "    .dataframe tbody tr th {\n",
       "        vertical-align: top;\n",
       "    }\n",
       "\n",
       "    .dataframe thead th {\n",
       "        text-align: right;\n",
       "    }\n",
       "</style>\n",
       "<table border=\"1\" class=\"dataframe\">\n",
       "  <thead>\n",
       "    <tr style=\"text-align: right;\">\n",
       "      <th></th>\n",
       "      <th>Processor_Speed</th>\n",
       "      <th>RAM_Size</th>\n",
       "      <th>Storage_Capacity</th>\n",
       "      <th>Screen_Size</th>\n",
       "      <th>Weight</th>\n",
       "      <th>Price</th>\n",
       "    </tr>\n",
       "  </thead>\n",
       "  <tbody>\n",
       "    <tr>\n",
       "      <th>count</th>\n",
       "      <td>1000.000000</td>\n",
       "      <td>1000.000000</td>\n",
       "      <td>1000.000000</td>\n",
       "      <td>1000.000000</td>\n",
       "      <td>1000.000000</td>\n",
       "      <td>1000.000000</td>\n",
       "    </tr>\n",
       "    <tr>\n",
       "      <th>mean</th>\n",
       "      <td>2.750611</td>\n",
       "      <td>15.500000</td>\n",
       "      <td>584.576000</td>\n",
       "      <td>14.056790</td>\n",
       "      <td>3.466919</td>\n",
       "      <td>19604.187963</td>\n",
       "    </tr>\n",
       "    <tr>\n",
       "      <th>std</th>\n",
       "      <td>0.731796</td>\n",
       "      <td>10.988665</td>\n",
       "      <td>313.438517</td>\n",
       "      <td>1.705882</td>\n",
       "      <td>0.866541</td>\n",
       "      <td>9406.064880</td>\n",
       "    </tr>\n",
       "    <tr>\n",
       "      <th>min</th>\n",
       "      <td>1.511580</td>\n",
       "      <td>4.000000</td>\n",
       "      <td>256.000000</td>\n",
       "      <td>11.012111</td>\n",
       "      <td>2.000560</td>\n",
       "      <td>8570.012950</td>\n",
       "    </tr>\n",
       "    <tr>\n",
       "      <th>25%</th>\n",
       "      <td>2.089246</td>\n",
       "      <td>8.000000</td>\n",
       "      <td>256.000000</td>\n",
       "      <td>12.635523</td>\n",
       "      <td>2.717211</td>\n",
       "      <td>10114.012948</td>\n",
       "    </tr>\n",
       "    <tr>\n",
       "      <th>50%</th>\n",
       "      <td>2.760885</td>\n",
       "      <td>16.000000</td>\n",
       "      <td>512.000000</td>\n",
       "      <td>14.099643</td>\n",
       "      <td>3.464630</td>\n",
       "      <td>17287.241878</td>\n",
       "    </tr>\n",
       "    <tr>\n",
       "      <th>75%</th>\n",
       "      <td>3.362610</td>\n",
       "      <td>32.000000</td>\n",
       "      <td>1000.000000</td>\n",
       "      <td>15.528590</td>\n",
       "      <td>4.212583</td>\n",
       "      <td>31566.214754</td>\n",
       "    </tr>\n",
       "    <tr>\n",
       "      <th>max</th>\n",
       "      <td>3.998534</td>\n",
       "      <td>32.000000</td>\n",
       "      <td>1000.000000</td>\n",
       "      <td>16.985737</td>\n",
       "      <td>4.990728</td>\n",
       "      <td>33503.935037</td>\n",
       "    </tr>\n",
       "  </tbody>\n",
       "</table>\n",
       "</div>"
      ],
      "text/plain": [
       "       Processor_Speed     RAM_Size  Storage_Capacity  Screen_Size  \\\n",
       "count      1000.000000  1000.000000       1000.000000  1000.000000   \n",
       "mean          2.750611    15.500000        584.576000    14.056790   \n",
       "std           0.731796    10.988665        313.438517     1.705882   \n",
       "min           1.511580     4.000000        256.000000    11.012111   \n",
       "25%           2.089246     8.000000        256.000000    12.635523   \n",
       "50%           2.760885    16.000000        512.000000    14.099643   \n",
       "75%           3.362610    32.000000       1000.000000    15.528590   \n",
       "max           3.998534    32.000000       1000.000000    16.985737   \n",
       "\n",
       "            Weight         Price  \n",
       "count  1000.000000   1000.000000  \n",
       "mean      3.466919  19604.187963  \n",
       "std       0.866541   9406.064880  \n",
       "min       2.000560   8570.012950  \n",
       "25%       2.717211  10114.012948  \n",
       "50%       3.464630  17287.241878  \n",
       "75%       4.212583  31566.214754  \n",
       "max       4.990728  33503.935037  "
      ]
     },
     "execution_count": 160,
     "metadata": {},
     "output_type": "execute_result"
    }
   ],
   "source": [
    "dataset.info()\n",
    "\n",
    "dataset.describe()"
   ]
  },
  {
   "cell_type": "code",
   "execution_count": 161,
   "id": "6d4cb8b2",
   "metadata": {},
   "outputs": [
    {
     "data": {
      "text/plain": [
       "(1000, 7)"
      ]
     },
     "execution_count": 161,
     "metadata": {},
     "output_type": "execute_result"
    }
   ],
   "source": [
    "dataset.shape"
   ]
  },
  {
   "cell_type": "code",
   "execution_count": 162,
   "id": "7c48c3f1",
   "metadata": {},
   "outputs": [
    {
     "data": {
      "text/plain": [
       "Index(['Brand', 'Processor_Speed', 'RAM_Size', 'Storage_Capacity',\n",
       "       'Screen_Size', 'Weight', 'Price'],\n",
       "      dtype='object')"
      ]
     },
     "execution_count": 162,
     "metadata": {},
     "output_type": "execute_result"
    }
   ],
   "source": [
    "dataset.columns"
   ]
  },
  {
   "cell_type": "code",
   "execution_count": 163,
   "id": "b8a3d444",
   "metadata": {},
   "outputs": [
    {
     "data": {
      "text/plain": [
       "Brand               0\n",
       "Processor_Speed     0\n",
       "RAM_Size            0\n",
       "Storage_Capacity    0\n",
       "Screen_Size         0\n",
       "Weight              0\n",
       "Price               0\n",
       "dtype: int64"
      ]
     },
     "execution_count": 163,
     "metadata": {},
     "output_type": "execute_result"
    }
   ],
   "source": [
    "dataset.isna().sum()"
   ]
  },
  {
   "cell_type": "code",
   "execution_count": 164,
   "id": "b4f0fbbb",
   "metadata": {},
   "outputs": [
    {
     "data": {
      "text/plain": [
       "0"
      ]
     },
     "execution_count": 164,
     "metadata": {},
     "output_type": "execute_result"
    }
   ],
   "source": [
    "dataset.duplicated().sum()"
   ]
  },
  {
   "cell_type": "code",
   "execution_count": 165,
   "id": "56abd198",
   "metadata": {},
   "outputs": [
    {
     "data": {
      "text/plain": [
       "Brand                object\n",
       "Processor_Speed     float64\n",
       "RAM_Size              int64\n",
       "Storage_Capacity      int64\n",
       "Screen_Size           int32\n",
       "Weight              float64\n",
       "Price               float64\n",
       "dtype: object"
      ]
     },
     "execution_count": 165,
     "metadata": {},
     "output_type": "execute_result"
    }
   ],
   "source": [
    "dataset['Screen_Size'] = dataset['Screen_Size'].astype(int)\n",
    "dataset.dtypes"
   ]
  },
  {
   "cell_type": "code",
   "execution_count": 166,
   "id": "d261c58c",
   "metadata": {},
   "outputs": [
    {
     "data": {
      "text/html": [
       "<div>\n",
       "<style scoped>\n",
       "    .dataframe tbody tr th:only-of-type {\n",
       "        vertical-align: middle;\n",
       "    }\n",
       "\n",
       "    .dataframe tbody tr th {\n",
       "        vertical-align: top;\n",
       "    }\n",
       "\n",
       "    .dataframe thead th {\n",
       "        text-align: right;\n",
       "    }\n",
       "</style>\n",
       "<table border=\"1\" class=\"dataframe\">\n",
       "  <thead>\n",
       "    <tr style=\"text-align: right;\">\n",
       "      <th></th>\n",
       "      <th>Brand</th>\n",
       "      <th>Processor_Speed</th>\n",
       "      <th>RAM_Size</th>\n",
       "      <th>Storage_Capacity</th>\n",
       "      <th>Screen_Size</th>\n",
       "      <th>Price</th>\n",
       "    </tr>\n",
       "  </thead>\n",
       "  <tbody>\n",
       "    <tr>\n",
       "      <th>0</th>\n",
       "      <td>Asus</td>\n",
       "      <td>3.830296</td>\n",
       "      <td>16</td>\n",
       "      <td>512</td>\n",
       "      <td>11</td>\n",
       "      <td>17395.093065</td>\n",
       "    </tr>\n",
       "    <tr>\n",
       "      <th>1</th>\n",
       "      <td>Acer</td>\n",
       "      <td>2.912833</td>\n",
       "      <td>4</td>\n",
       "      <td>1000</td>\n",
       "      <td>11</td>\n",
       "      <td>31607.605919</td>\n",
       "    </tr>\n",
       "  </tbody>\n",
       "</table>\n",
       "</div>"
      ],
      "text/plain": [
       "  Brand  Processor_Speed  RAM_Size  Storage_Capacity  Screen_Size  \\\n",
       "0  Asus         3.830296        16               512           11   \n",
       "1  Acer         2.912833         4              1000           11   \n",
       "\n",
       "          Price  \n",
       "0  17395.093065  \n",
       "1  31607.605919  "
      ]
     },
     "execution_count": 166,
     "metadata": {},
     "output_type": "execute_result"
    }
   ],
   "source": [
    "dataset = dataset.drop(['Weight'], axis = 1)\n",
    "dataset.head(2)"
   ]
  },
  {
   "cell_type": "code",
   "execution_count": 167,
   "id": "a9112a25",
   "metadata": {},
   "outputs": [
    {
     "data": {
      "text/plain": [
       "Brand\n",
       "Dell      210\n",
       "Asus      206\n",
       "Acer      204\n",
       "Lenovo    190\n",
       "HP        190\n",
       "Name: count, dtype: int64"
      ]
     },
     "execution_count": 167,
     "metadata": {},
     "output_type": "execute_result"
    }
   ],
   "source": [
    "dataset['Brand'].value_counts().sort_values(ascending=False)"
   ]
  },
  {
   "cell_type": "code",
   "execution_count": 168,
   "id": "7b78319c",
   "metadata": {},
   "outputs": [],
   "source": [
    "sns.set(style='dark')"
   ]
  },
  {
   "cell_type": "code",
   "execution_count": 169,
   "id": "ecc680eb",
   "metadata": {},
   "outputs": [
    {
     "data": {
      "image/png": "[encoded data removed]",
      "text/plain": [
       "<Figure size 1000x600 with 1 Axes>"
      ]
     },
     "metadata": {},
     "output_type": "display_data"
    }
   ],
   "source": [
    "dataset['Brand'].value_counts().sort_values(ascending=False).plot(kind='pie', figsize=(10,6), color=['blue', 'darkred'])\n",
    "plt.title('Brand Distribution')\n",
    "plt.xlabel('Brand')\n",
    "plt.ylabel('')\n",
    "plt.xticks(rotation=45)\n",
    "plt.tight_layout()\n",
    "plt.show()"
   ]
  },
  {
   "cell_type": "code",
   "execution_count": 170,
   "id": "67416ba0",
   "metadata": {},
   "outputs": [
    {
     "data": {
      "image/png": "[encoded data removed]",
      "text/plain": [
       "<Figure size 800x500 with 1 Axes>"
      ]
     },
     "metadata": {},
     "output_type": "display_data"
    }
   ],
   "source": [
    "dataset.groupby('Brand')['Price'].mean().plot(kind='bar', figsize=(8, 5), color=['lightblue', 'yellow'])\n",
    "plt.title('Average Price by Brand')\n",
    "plt.xlabel('Brand')\n",
    "plt.ylabel('Count')\n",
    "plt.tight_layout()\n",
    "plt.xticks(rotation = 0)\n",
    "plt.show()"
   ]
  },
  {
   "cell_type": "code",
   "execution_count": 171,
   "id": "1e2043c5",
   "metadata": {},
   "outputs": [
    {
     "data": {
      "text/plain": [
       "RAM_Size  Storage_Capacity\n",
       "4         256                  9171.997856\n",
       "          512                 16855.009374\n",
       "          1000                31455.561713\n",
       "8         256                  9393.447408\n",
       "          512                 17023.751694\n",
       "          1000                31649.586551\n",
       "16        256                  9804.380306\n",
       "          512                 17485.053381\n",
       "          1000                32095.067868\n",
       "32        256                 10591.302212\n",
       "          512                 18257.374258\n",
       "          1000                32875.202727\n",
       "Name: Price, dtype: float64"
      ]
     },
     "execution_count": 171,
     "metadata": {},
     "output_type": "execute_result"
    }
   ],
   "source": [
    "dataset.groupby(['RAM_Size', 'Storage_Capacity'])['Price'].mean()"
   ]
  },
  {
   "cell_type": "code",
   "execution_count": 172,
   "id": "198c222d",
   "metadata": {},
   "outputs": [
    {
     "data": {
      "image/png": "[encoded data removed]",
      "text/plain": [
       "<Figure size 1000x600 with 1 Axes>"
      ]
     },
     "metadata": {},
     "output_type": "display_data"
    }
   ],
   "source": [
    "dataset.groupby(['RAM_Size', 'Storage_Capacity'])['Price'].mean().sort_values(ascending=False).plot(kind='bar', figsize=(10,6), color=['red', 'orange'])\n",
    "plt.title('Average Price by RAM Size & Storage')\n",
    "plt.xlabel('Features')\n",
    "plt.ylabel('')\n",
    "plt.tight_layout()\n",
    "plt.show()"
   ]
  },
  {
   "cell_type": "code",
   "execution_count": 173,
   "id": "eb4e7454",
   "metadata": {},
   "outputs": [
    {
     "data": {
      "image/png": "[encoded data removed]",
      "text/plain": [
       "<Figure size 1000x600 with 1 Axes>"
      ]
     },
     "metadata": {},
     "output_type": "display_data"
    }
   ],
   "source": [
    "dataset['Screen_Size'].value_counts().plot(kind='pie', figsize=(10,6), color = ['teal', 'pink'])\n",
    "plt.title('Screen_Size Distribution')\n",
    "plt.xlabel('Screen_Size')\n",
    "plt.tight_layout()\n",
    "plt.show()"
   ]
  },
  {
   "cell_type": "code",
   "execution_count": 174,
   "id": "a04e5cd8",
   "metadata": {},
   "outputs": [
    {
     "data": {
      "image/png": "[encoded data removed]",
      "text/plain": [
       "<Figure size 1000x600 with 1 Axes>"
      ]
     },
     "metadata": {},
     "output_type": "display_data"
    }
   ],
   "source": [
    "dataset.groupby('Screen_Size')['Price'].mean().plot(kind='bar', figsize=(10,6), color = ['teal', 'pink'])\n",
    "plt.title('Screen_Size Distribution')\n",
    "plt.xlabel('Screen_Size')\n",
    "plt.tight_layout()\n",
    "plt.show()"
   ]
  },
  {
   "cell_type": "code",
   "execution_count": 175,
   "id": "9b560454",
   "metadata": {},
   "outputs": [
    {
     "data": {
      "text/html": [
       "<div>\n",
       "<style scoped>\n",
       "    .dataframe tbody tr th:only-of-type {\n",
       "        vertical-align: middle;\n",
       "    }\n",
       "\n",
       "    .dataframe tbody tr th {\n",
       "        vertical-align: top;\n",
       "    }\n",
       "\n",
       "    .dataframe thead th {\n",
       "        text-align: right;\n",
       "    }\n",
       "</style>\n",
       "<table border=\"1\" class=\"dataframe\">\n",
       "  <thead>\n",
       "    <tr style=\"text-align: right;\">\n",
       "      <th></th>\n",
       "      <th>Brand</th>\n",
       "      <th>Processor_Speed</th>\n",
       "      <th>RAM_Size</th>\n",
       "      <th>Storage_Capacity</th>\n",
       "      <th>Screen_Size</th>\n",
       "      <th>Price</th>\n",
       "    </tr>\n",
       "  </thead>\n",
       "  <tbody>\n",
       "    <tr>\n",
       "      <th>0</th>\n",
       "      <td>Asus</td>\n",
       "      <td>3.830296</td>\n",
       "      <td>16</td>\n",
       "      <td>512</td>\n",
       "      <td>11</td>\n",
       "      <td>17395.093065</td>\n",
       "    </tr>\n",
       "    <tr>\n",
       "      <th>1</th>\n",
       "      <td>Acer</td>\n",
       "      <td>2.912833</td>\n",
       "      <td>4</td>\n",
       "      <td>1000</td>\n",
       "      <td>11</td>\n",
       "      <td>31607.605919</td>\n",
       "    </tr>\n",
       "  </tbody>\n",
       "</table>\n",
       "</div>"
      ],
      "text/plain": [
       "  Brand  Processor_Speed  RAM_Size  Storage_Capacity  Screen_Size  \\\n",
       "0  Asus         3.830296        16               512           11   \n",
       "1  Acer         2.912833         4              1000           11   \n",
       "\n",
       "          Price  \n",
       "0  17395.093065  \n",
       "1  31607.605919  "
      ]
     },
     "execution_count": 175,
     "metadata": {},
     "output_type": "execute_result"
    }
   ],
   "source": [
    "dataset.head(2)"
   ]
  },
  {
   "cell_type": "code",
   "execution_count": 176,
   "id": "d6aecaf9",
   "metadata": {},
   "outputs": [],
   "source": [
    "import warnings\n",
    "warnings.filterwarnings('ignore')\n",
    "\n",
    "dataset = pd.get_dummies(dataset, columns=['Brand'], drop_first=True)"
   ]
  },
  {
   "cell_type": "code",
   "execution_count": 177,
   "id": "53fae4b0",
   "metadata": {},
   "outputs": [
    {
     "data": {
      "text/html": [
       "<div>\n",
       "<style scoped>\n",
       "    .dataframe tbody tr th:only-of-type {\n",
       "        vertical-align: middle;\n",
       "    }\n",
       "\n",
       "    .dataframe tbody tr th {\n",
       "        vertical-align: top;\n",
       "    }\n",
       "\n",
       "    .dataframe thead th {\n",
       "        text-align: right;\n",
       "    }\n",
       "</style>\n",
       "<table border=\"1\" class=\"dataframe\">\n",
       "  <thead>\n",
       "    <tr style=\"text-align: right;\">\n",
       "      <th></th>\n",
       "      <th>Processor_Speed</th>\n",
       "      <th>RAM_Size</th>\n",
       "      <th>Storage_Capacity</th>\n",
       "      <th>Screen_Size</th>\n",
       "      <th>Price</th>\n",
       "      <th>Brand_Asus</th>\n",
       "      <th>Brand_Dell</th>\n",
       "      <th>Brand_HP</th>\n",
       "      <th>Brand_Lenovo</th>\n",
       "    </tr>\n",
       "  </thead>\n",
       "  <tbody>\n",
       "    <tr>\n",
       "      <th>0</th>\n",
       "      <td>3.830296</td>\n",
       "      <td>16</td>\n",
       "      <td>512</td>\n",
       "      <td>11</td>\n",
       "      <td>17395.093065</td>\n",
       "      <td>True</td>\n",
       "      <td>False</td>\n",
       "      <td>False</td>\n",
       "      <td>False</td>\n",
       "    </tr>\n",
       "    <tr>\n",
       "      <th>1</th>\n",
       "      <td>2.912833</td>\n",
       "      <td>4</td>\n",
       "      <td>1000</td>\n",
       "      <td>11</td>\n",
       "      <td>31607.605919</td>\n",
       "      <td>False</td>\n",
       "      <td>False</td>\n",
       "      <td>False</td>\n",
       "      <td>False</td>\n",
       "    </tr>\n",
       "  </tbody>\n",
       "</table>\n",
       "</div>"
      ],
      "text/plain": [
       "   Processor_Speed  RAM_Size  Storage_Capacity  Screen_Size         Price  \\\n",
       "0         3.830296        16               512           11  17395.093065   \n",
       "1         2.912833         4              1000           11  31607.605919   \n",
       "\n",
       "   Brand_Asus  Brand_Dell  Brand_HP  Brand_Lenovo  \n",
       "0        True       False     False         False  \n",
       "1       False       False     False         False  "
      ]
     },
     "execution_count": 177,
     "metadata": {},
     "output_type": "execute_result"
    }
   ],
   "source": [
    "dataset.head(2)"
   ]
  },
  {
   "cell_type": "code",
   "execution_count": 178,
   "id": "8d81eb7b",
   "metadata": {},
   "outputs": [
    {
     "name": "stdout",
     "output_type": "stream",
     "text": [
      "MAE: 176.2407626990324\n",
      "RMSE: 213.24275802166855\n",
      "R2: 0.9994991828063243\n"
     ]
    }
   ],
   "source": [
    "from sklearn.metrics import mean_absolute_error, mean_squared_error, r2_score\n",
    "from sklearn.ensemble import RandomForestRegressor\n",
    "from sklearn.model_selection import train_test_split\n",
    "\n",
    "x = dataset.drop('Price', axis=1)\n",
    "y = dataset['Price']\n",
    "\n",
    "x_train, x_test, y_train, y_test = train_test_split(x, y, test_size=0.2, random_state=42)\n",
    "\n",
    "rfr_model = RandomForestRegressor(n_estimators=200, random_state=42)\n",
    "rfr_model.fit(x_train, y_train)\n",
    "\n",
    "y_pred = rfr_model.predict(x_test)\n",
    "\n",
    "print(\"MAE:\", mean_absolute_error(y_test, y_pred))\n",
    "print(\"RMSE:\", mean_squared_error(y_test, y_pred, squared=False))\n",
    "print(\"R2:\", r2_score(y_test, y_pred))"
   ]
  },
  {
   "cell_type": "code",
   "execution_count": 179,
   "id": "89ee4093",
   "metadata": {},
   "outputs": [
    {
     "name": "stdout",
     "output_type": "stream",
     "text": [
      "MAE: 226.61509043742038\n",
      "RMSE: 280.5340838082233\n",
      "R2: 0.9991332339021308\n"
     ]
    }
   ],
   "source": [
    "from sklearn.tree import DecisionTreeRegressor\n",
    "\n",
    "dtr_model = DecisionTreeRegressor()\n",
    "dtr_model.fit(x_train, y_train)\n",
    "\n",
    "y_pred = dtr_model.predict(x_test)\n",
    "\n",
    "print(\"MAE:\", mean_absolute_error(y_test, y_pred))\n",
    "print(\"RMSE:\", mean_squared_error(y_test, y_pred, squared=False))\n",
    "print(\"R2:\", r2_score(y_test, y_pred))"
   ]
  },
  {
   "cell_type": "code",
   "execution_count": 180,
   "id": "95b11ff7",
   "metadata": {},
   "outputs": [
    {
     "name": "stdout",
     "output_type": "stream",
     "text": [
      "MAE: 146.2024693166563\n",
      "RMSE: 179.79022265701843\n",
      "R2: 0.9996439895147972\n"
     ]
    }
   ],
   "source": [
    "from sklearn.linear_model import LinearRegression\n",
    "\n",
    "lr_model = LinearRegression()\n",
    "lr_model.fit(x_train, y_train)\n",
    "\n",
    "y_pred = lr_model.predict(x_test)\n",
    "\n",
    "print(\"MAE:\", mean_absolute_error(y_test, y_pred))\n",
    "print(\"RMSE:\", mean_squared_error(y_test, y_pred, squared=False))\n",
    "print(\"R2:\", r2_score(y_test, y_pred))"
   ]
  },
  {
   "cell_type": "code",
   "execution_count": 181,
   "id": "a3c3a8b2",
   "metadata": {},
   "outputs": [
    {
     "name": "stdout",
     "output_type": "stream",
     "text": [
      "[[10729.26827109 10900.5020747 ]\n",
      " [31550.03874757 31727.51669713]\n",
      " [ 9632.02199522  9636.02275023]\n",
      " [ 9263.05147148  9412.59985713]\n",
      " [32028.00721622 31641.10586087]\n",
      " [31650.06848926 31832.48694288]\n",
      " [10325.8482497  10438.45156758]\n",
      " [16966.80789752 17205.20567922]\n",
      " [18497.54820095 18743.56939203]\n",
      " [32368.14987243 32342.7058624 ]\n",
      " [ 9919.34996442 10194.66237311]\n",
      " [10605.94420223 10514.8892457 ]\n",
      " [32913.32793597 32761.71742684]\n",
      " [ 9279.19325004  9376.58499437]\n",
      " [17255.84476536 17306.62414221]\n",
      " [ 8974.26844226  8780.66081214]\n",
      " [32077.30512545 32039.04200238]\n",
      " [32217.28766919 32242.39494102]\n",
      " [10482.01558344 10573.85856037]\n",
      " [31655.47679363 31916.07446804]\n",
      " [10603.18416833 10359.76290815]\n",
      " [10654.5390329  10869.93626509]\n",
      " [ 9159.56538729  9405.3300985 ]\n",
      " [10375.17319609 10350.81452551]\n",
      " [ 9486.48427493  9346.06457358]\n",
      " [17512.70780044 17595.70911438]\n",
      " [10711.20631409 11055.04524004]\n",
      " [18281.93651241 18028.99908089]\n",
      " [10796.31534945 10776.32666945]\n",
      " [32675.1084581  32513.47571532]\n",
      " [16871.73290704 17045.60392779]\n",
      " [32777.9793025  32806.59086065]\n",
      " [16669.91718833 16674.1762681 ]\n",
      " [31920.1551613  32178.29275977]\n",
      " [31592.23633503 31550.90429959]\n",
      " [10557.38467541 10241.80317619]\n",
      " [31216.20432213 31227.62554548]\n",
      " [ 9021.58826214  9087.07160298]\n",
      " [32637.98804942 32879.80195654]\n",
      " [17311.43082069 17283.37600788]\n",
      " [32171.82339145 32396.81423512]\n",
      " [ 9575.29441289  9491.27221481]\n",
      " [17602.1388188  17547.66350385]\n",
      " [31722.60876008 31374.55966941]\n",
      " [17218.69049918 17504.6661951 ]\n",
      " [16786.54782143 16777.65548577]\n",
      " [32673.11838194 32563.09234296]\n",
      " [16785.6859365  16732.17688753]\n",
      " [ 9719.15371455  9602.42464377]\n",
      " [17044.00156518 17010.57142843]\n",
      " [16904.66623651 16757.87521145]\n",
      " [31598.65746141 31775.10078117]\n",
      " [ 9747.38251363 10131.59332353]\n",
      " [10454.82646851 10413.73101408]\n",
      " [31987.17450926 32114.82080257]\n",
      " [32794.36878793 32817.51657673]\n",
      " [31410.09962235 31331.8761422 ]\n",
      " [31715.87432141 31967.60763154]\n",
      " [ 9170.70992391  9194.57565829]\n",
      " [32334.1496556  32351.38622794]\n",
      " [17504.61781599 17354.5752147 ]\n",
      " [31420.85108739 31612.05196825]\n",
      " [31922.40622799 31702.14840432]\n",
      " [10652.11338046 10622.1767684 ]\n",
      " [ 9570.92283713  9526.0426063 ]\n",
      " [32032.52417515 32192.59310111]\n",
      " [32677.94192935 32526.8281091 ]\n",
      " [32256.0313954  32190.56583367]\n",
      " [31512.84467426 31232.36363077]\n",
      " [ 8902.97377791  9123.78534736]\n",
      " [31541.52314525 31533.20155492]\n",
      " [32649.83343723 32639.70434444]\n",
      " [17594.7906264  17789.17210277]\n",
      " [31583.3673709  31471.24646493]\n",
      " [17317.80254294 17328.13457657]\n",
      " [32901.58988278 32812.68702948]\n",
      " [18461.41978361 18371.27150981]\n",
      " [ 9142.54165098  9221.13843469]\n",
      " [16764.84186343 17156.71071518]\n",
      " [ 9428.03072622  9576.79920533]\n",
      " [ 9514.55229902  9470.81352342]\n",
      " [32876.93231223 32703.61322522]\n",
      " [10413.93157881 10428.13122703]\n",
      " [ 9740.89550155  9859.67514776]\n",
      " [10606.42629904 10454.86243186]\n",
      " [ 9479.8957557   9264.36247946]\n",
      " [ 9110.9364164   9407.47345868]\n",
      " [18436.02496522 18478.14440371]\n",
      " [17111.85363523 17095.14616657]\n",
      " [32234.60387519 31974.33199154]\n",
      " [17203.59133104 17377.64164166]\n",
      " [32645.84763881 32818.07992776]\n",
      " [32710.14426128 32857.12065525]\n",
      " [ 9481.4327148   9635.71745252]\n",
      " [ 9841.59170427 10026.49773572]\n",
      " [10437.89068219 10740.17439367]\n",
      " [32871.94218594 32720.53241425]\n",
      " [ 9304.69780943  9454.4538488 ]\n",
      " [16824.45666903 17008.98570634]\n",
      " [ 9841.13686414  9725.67135079]\n",
      " [17246.07836739 17265.17733185]\n",
      " [ 9443.94021912  9373.86560779]\n",
      " [18242.54104928 18076.17655513]\n",
      " [17029.56095001 17065.08162954]\n",
      " [10582.1498276  10805.22151252]\n",
      " [ 9564.76294559  9684.28294677]\n",
      " [17025.81644021 17033.49502985]\n",
      " [17628.68186896 17453.1338123 ]\n",
      " [ 9052.09068136  9000.73364439]\n",
      " [10514.5322855  10692.58576411]\n",
      " [10842.57085644 10638.50244335]\n",
      " [31627.52336825 31641.1127386 ]\n",
      " [32260.029015   32427.60539121]\n",
      " [32895.29083227 33320.84523465]\n",
      " [31790.68088353 31849.94957524]\n",
      " [31923.02399762 31967.51364293]\n",
      " [16795.15626524 16613.5085482 ]\n",
      " [10748.40591025 10881.587053  ]\n",
      " [ 9358.64683538  9048.6091068 ]\n",
      " [31902.55503775 31773.80361639]\n",
      " [32107.58372039 31992.82301083]\n",
      " [ 8969.6798289   8570.01295047]\n",
      " [10697.55001925 10614.65637339]\n",
      " [32227.3786332  32274.63025978]\n",
      " [10385.01438303 10321.72941307]\n",
      " [ 9603.56260225  9524.51654116]\n",
      " [32155.01711426 31929.67447694]\n",
      " [18465.11162228 18133.59750991]\n",
      " [17104.54958284 17224.93575436]\n",
      " [ 9298.95123199  9174.85663231]\n",
      " [17066.77683741 17298.46593347]\n",
      " [16910.07163921 17155.6925996 ]\n",
      " [ 9984.70627693  9978.87405001]\n",
      " [31565.20367781 31593.66801733]\n",
      " [32039.98612935 31985.34781523]\n",
      " [ 9261.03805358  9081.89873792]\n",
      " [16755.45168081 16523.52327191]\n",
      " [10828.07472007 10901.06254646]\n",
      " [31449.75402435 31623.81422968]\n",
      " [ 9388.46587129  9486.59493722]\n",
      " [31205.73808928 31381.40554801]\n",
      " [31706.48519501 31747.39378249]\n",
      " [17183.41233852 17128.6579257 ]\n",
      " [32980.1286193  33063.24200045]\n",
      " [ 9934.68449761  9737.94650056]\n",
      " [16637.88210022 16495.3103898 ]\n",
      " [31488.22640059 31582.72574935]\n",
      " [ 9188.2044126   9024.89080904]\n",
      " [32933.43225768 32754.91847077]\n",
      " [ 9370.09757592  9480.67147185]\n",
      " [ 9497.09657384  9468.28267429]\n",
      " [32068.57719233 32215.48938142]\n",
      " [17730.82779462 17685.06959239]\n",
      " [ 9872.0140076   9674.42104074]\n",
      " [ 8997.48288726  9105.36051419]\n",
      " [16889.7878477  16840.02451493]\n",
      " [ 9674.5334404   9594.15776506]\n",
      " [ 9113.56907889  9125.49437989]\n",
      " [16790.02202153 16788.66859569]\n",
      " [17322.80732636 17379.97583683]\n",
      " [32659.35218614 32466.67497447]\n",
      " [17319.43130036 17517.69212996]\n",
      " [ 9630.03714614  9643.78176617]\n",
      " [ 9480.86371732  9346.19959797]\n",
      " [31501.26576428 31299.09633708]\n",
      " [17712.7747275  17992.65705493]\n",
      " [10479.5828483  10558.37440012]\n",
      " [16979.50430813 16640.72783238]\n",
      " [32271.48346928 32339.21379312]\n",
      " [18157.66560423 18157.02232441]\n",
      " [ 9932.38965414  9990.73503624]\n",
      " [ 9032.82762168  9226.49322621]\n",
      " [18406.62200005 18702.47855205]\n",
      " [33080.87608308 33309.86950091]\n",
      " [ 9369.08620273  9425.20228061]\n",
      " [16832.50950472 17113.9472913 ]\n",
      " [10780.32607084 10405.95143539]\n",
      " [16823.29276686 16575.2518357 ]\n",
      " [10367.69038412 10530.53993688]\n",
      " [32803.08618013 33009.99182095]\n",
      " [16852.40936452 16974.39396717]\n",
      " [17627.67586127 17430.7380316 ]\n",
      " [31510.70121283 31391.56451513]\n",
      " [17270.59634843 17397.54904187]\n",
      " [10796.11850709 10966.95922561]\n",
      " [ 9155.5974155   8995.5896959 ]\n",
      " [17598.04670796 17642.98373387]\n",
      " [31309.3050024  30846.98776141]\n",
      " [31347.61243313 31368.34593982]\n",
      " [18292.49878514 18156.07811335]\n",
      " [32829.40162054 32885.83478411]\n",
      " [ 9838.76482728  9612.35252379]\n",
      " [17662.11431086 18071.45594573]\n",
      " [16850.30796548 16724.50569274]\n",
      " [31724.47477568 31441.57774665]\n",
      " [18275.45394502 17768.37330818]\n",
      " [ 9236.37603682  9411.26553579]\n",
      " [10725.45059437 10474.26099124]\n",
      " [33013.45497238 32968.61211133]\n",
      " [18092.31075543 18310.41380624]]\n"
     ]
    }
   ],
   "source": [
    "y_pred = lr_model.predict(x_test)\n",
    "print(np.concatenate((y_pred.reshape(len(y_pred), 1), y_test.to_numpy().reshape(len(y_test), 1)), axis=1))"
   ]
  },
  {
   "cell_type": "code",
   "execution_count": 182,
   "id": "b0cbceb1",
   "metadata": {},
   "outputs": [
    {
     "name": "stdout",
     "output_type": "stream",
     "text": [
      "Cross Val Accuracy: 0.9995574072459006 6.74358558813013e-05\n"
     ]
    }
   ],
   "source": [
    "from sklearn.model_selection import cross_val_score\n",
    "scores = cross_val_score(lr_model, x, y, cv=5)\n",
    "print(\"Cross Val Accuracy:\", scores.mean(), scores.std())"
   ]
  },
  {
   "cell_type": "code",
   "execution_count": 185,
   "id": "bb8bd3a1",
   "metadata": {},
   "outputs": [
    {
     "data": {
      "image/png": "[encoded data removed]",
      "text/plain": [
       "<Figure size 640x480 with 1 Axes>"
      ]
     },
     "metadata": {},
     "output_type": "display_data"
    }
   ],
   "source": [
    "plt.scatter(y_test, y_pred)\n",
    "plt.title('Actual Value vs Prediction Value')\n",
    "plt.xlabel('Actual Value')\n",
    "plt.ylabel('Predicted Value')\n",
    "plt.tight_layout()\n",
    "plt.show()"
   ]
  },
  {
   "cell_type": "code",
   "execution_count": 186,
   "id": "c51bb65e",
   "metadata": {},
   "outputs": [
    {
     "data": {
      "text/html": [
       "<div>\n",
       "<style scoped>\n",
       "    .dataframe tbody tr th:only-of-type {\n",
       "        vertical-align: middle;\n",
       "    }\n",
       "\n",
       "    .dataframe tbody tr th {\n",
       "        vertical-align: top;\n",
       "    }\n",
       "\n",
       "    .dataframe thead th {\n",
       "        text-align: right;\n",
       "    }\n",
       "</style>\n",
       "<table border=\"1\" class=\"dataframe\">\n",
       "  <thead>\n",
       "    <tr style=\"text-align: right;\">\n",
       "      <th></th>\n",
       "      <th>Processor_Speed</th>\n",
       "      <th>RAM_Size</th>\n",
       "      <th>Storage_Capacity</th>\n",
       "      <th>Screen_Size</th>\n",
       "      <th>Brand_Asus</th>\n",
       "      <th>Brand_Dell</th>\n",
       "      <th>Brand_HP</th>\n",
       "      <th>Brand_Lenovo</th>\n",
       "    </tr>\n",
       "  </thead>\n",
       "  <tbody>\n",
       "    <tr>\n",
       "      <th>0</th>\n",
       "      <td>3.830296</td>\n",
       "      <td>16</td>\n",
       "      <td>512</td>\n",
       "      <td>11</td>\n",
       "      <td>True</td>\n",
       "      <td>False</td>\n",
       "      <td>False</td>\n",
       "      <td>False</td>\n",
       "    </tr>\n",
       "    <tr>\n",
       "      <th>1</th>\n",
       "      <td>2.912833</td>\n",
       "      <td>4</td>\n",
       "      <td>1000</td>\n",
       "      <td>11</td>\n",
       "      <td>False</td>\n",
       "      <td>False</td>\n",
       "      <td>False</td>\n",
       "      <td>False</td>\n",
       "    </tr>\n",
       "    <tr>\n",
       "      <th>2</th>\n",
       "      <td>3.241627</td>\n",
       "      <td>4</td>\n",
       "      <td>256</td>\n",
       "      <td>11</td>\n",
       "      <td>False</td>\n",
       "      <td>False</td>\n",
       "      <td>False</td>\n",
       "      <td>True</td>\n",
       "    </tr>\n",
       "    <tr>\n",
       "      <th>3</th>\n",
       "      <td>3.806248</td>\n",
       "      <td>16</td>\n",
       "      <td>512</td>\n",
       "      <td>12</td>\n",
       "      <td>False</td>\n",
       "      <td>False</td>\n",
       "      <td>False</td>\n",
       "      <td>False</td>\n",
       "    </tr>\n",
       "    <tr>\n",
       "      <th>4</th>\n",
       "      <td>3.268097</td>\n",
       "      <td>32</td>\n",
       "      <td>1000</td>\n",
       "      <td>14</td>\n",
       "      <td>False</td>\n",
       "      <td>False</td>\n",
       "      <td>False</td>\n",
       "      <td>False</td>\n",
       "    </tr>\n",
       "    <tr>\n",
       "      <th>...</th>\n",
       "      <td>...</td>\n",
       "      <td>...</td>\n",
       "      <td>...</td>\n",
       "      <td>...</td>\n",
       "      <td>...</td>\n",
       "      <td>...</td>\n",
       "      <td>...</td>\n",
       "      <td>...</td>\n",
       "    </tr>\n",
       "    <tr>\n",
       "      <th>995</th>\n",
       "      <td>3.343584</td>\n",
       "      <td>4</td>\n",
       "      <td>1000</td>\n",
       "      <td>12</td>\n",
       "      <td>False</td>\n",
       "      <td>False</td>\n",
       "      <td>True</td>\n",
       "      <td>False</td>\n",
       "    </tr>\n",
       "    <tr>\n",
       "      <th>996</th>\n",
       "      <td>2.780555</td>\n",
       "      <td>8</td>\n",
       "      <td>256</td>\n",
       "      <td>12</td>\n",
       "      <td>False</td>\n",
       "      <td>True</td>\n",
       "      <td>False</td>\n",
       "      <td>False</td>\n",
       "    </tr>\n",
       "    <tr>\n",
       "      <th>997</th>\n",
       "      <td>3.200569</td>\n",
       "      <td>4</td>\n",
       "      <td>512</td>\n",
       "      <td>12</td>\n",
       "      <td>False</td>\n",
       "      <td>True</td>\n",
       "      <td>False</td>\n",
       "      <td>False</td>\n",
       "    </tr>\n",
       "    <tr>\n",
       "      <th>998</th>\n",
       "      <td>1.604182</td>\n",
       "      <td>8</td>\n",
       "      <td>256</td>\n",
       "      <td>11</td>\n",
       "      <td>True</td>\n",
       "      <td>False</td>\n",
       "      <td>False</td>\n",
       "      <td>False</td>\n",
       "    </tr>\n",
       "    <tr>\n",
       "      <th>999</th>\n",
       "      <td>1.711980</td>\n",
       "      <td>4</td>\n",
       "      <td>256</td>\n",
       "      <td>16</td>\n",
       "      <td>False</td>\n",
       "      <td>False</td>\n",
       "      <td>False</td>\n",
       "      <td>True</td>\n",
       "    </tr>\n",
       "  </tbody>\n",
       "</table>\n",
       "<p>1000 rows × 8 columns</p>\n",
       "</div>"
      ],
      "text/plain": [
       "     Processor_Speed  RAM_Size  Storage_Capacity  Screen_Size  Brand_Asus  \\\n",
       "0           3.830296        16               512           11        True   \n",
       "1           2.912833         4              1000           11       False   \n",
       "2           3.241627         4               256           11       False   \n",
       "3           3.806248        16               512           12       False   \n",
       "4           3.268097        32              1000           14       False   \n",
       "..               ...       ...               ...          ...         ...   \n",
       "995         3.343584         4              1000           12       False   \n",
       "996         2.780555         8               256           12       False   \n",
       "997         3.200569         4               512           12       False   \n",
       "998         1.604182         8               256           11        True   \n",
       "999         1.711980         4               256           16       False   \n",
       "\n",
       "     Brand_Dell  Brand_HP  Brand_Lenovo  \n",
       "0         False     False         False  \n",
       "1         False     False         False  \n",
       "2         False     False          True  \n",
       "3         False     False         False  \n",
       "4         False     False         False  \n",
       "..          ...       ...           ...  \n",
       "995       False      True         False  \n",
       "996        True     False         False  \n",
       "997        True     False         False  \n",
       "998       False     False         False  \n",
       "999       False     False          True  \n",
       "\n",
       "[1000 rows x 8 columns]"
      ]
     },
     "execution_count": 186,
     "metadata": {},
     "output_type": "execute_result"
    }
   ],
   "source": [
    "x"
   ]
  },
  {
   "cell_type": "code",
   "execution_count": 187,
   "id": "32633224",
   "metadata": {},
   "outputs": [
    {
     "data": {
      "text/plain": [
       "0      17395.093065\n",
       "1      31607.605919\n",
       "2       9291.023542\n",
       "3      17436.728334\n",
       "4      32917.990718\n",
       "           ...     \n",
       "995    31593.668017\n",
       "996     9149.521832\n",
       "997    16552.404779\n",
       "998     9407.473459\n",
       "999     8807.696702\n",
       "Name: Price, Length: 1000, dtype: float64"
      ]
     },
     "execution_count": 187,
     "metadata": {},
     "output_type": "execute_result"
    }
   ],
   "source": [
    "y"
   ]
  },
  {
   "cell_type": "code",
   "execution_count": 192,
   "id": "9ffd8f94",
   "metadata": {},
   "outputs": [
    {
     "name": "stdout",
     "output_type": "stream",
     "text": [
      "Predicted Price: 31556.55\n"
     ]
    }
   ],
   "source": [
    "user_input = [[3.3, 4, 1000, 12, 0, 0, 1, 0]]\n",
    "prediction = lr_model.predict(user_input)[0]\n",
    "print(f'Predicted Price: {prediction:.2f}')"
   ]
  }
 ],
 "metadata": {
  "kernelspec": {
   "display_name": "base",
   "language": "python",
   "name": "python3"
  },
  "language_info": {
   "codemirror_mode": {
    "name": "ipython",
    "version": 3
   },
   "file_extension": ".py",
   "mimetype": "text/x-python",
   "name": "python",
   "nbconvert_exporter": "python",
   "pygments_lexer": "ipython3",
   "version": "3.12.7"
  }
 },
 "nbformat": 4,
 "nbformat_minor": 5
}
